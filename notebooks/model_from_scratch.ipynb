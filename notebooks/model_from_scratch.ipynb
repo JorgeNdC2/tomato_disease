{
 "cells": [
  {
   "cell_type": "markdown",
   "metadata": {},
   "source": [
    "# Loading the dataset"
   ]
  },
  {
   "cell_type": "code",
   "execution_count": 13,
   "metadata": {},
   "outputs": [
    {
     "name": "stdout",
     "output_type": "stream",
     "text": [
      "Collecting tensorflow\n",
      "  Using cached tensorflow-2.16.1-cp39-cp39-win_amd64.whl.metadata (3.5 kB)\n",
      "Collecting tensorflow-intel==2.16.1 (from tensorflow)\n",
      "  Using cached tensorflow_intel-2.16.1-cp39-cp39-win_amd64.whl.metadata (5.0 kB)\n",
      "Requirement already satisfied: absl-py>=1.0.0 in c:\\users\\qirun\\desktop\\mbd\\2 cuatri\\análisis de datos no estructurados +oc\\2. imagenes\\tomato_disease\\tomato_venv\\lib\\site-packages (from tensorflow-intel==2.16.1->tensorflow) (2.1.0)\n",
      "Requirement already satisfied: astunparse>=1.6.0 in c:\\users\\qirun\\desktop\\mbd\\2 cuatri\\análisis de datos no estructurados +oc\\2. imagenes\\tomato_disease\\tomato_venv\\lib\\site-packages (from tensorflow-intel==2.16.1->tensorflow) (1.6.3)\n",
      "Requirement already satisfied: flatbuffers>=23.5.26 in c:\\users\\qirun\\desktop\\mbd\\2 cuatri\\análisis de datos no estructurados +oc\\2. imagenes\\tomato_disease\\tomato_venv\\lib\\site-packages (from tensorflow-intel==2.16.1->tensorflow) (24.3.25)\n",
      "Requirement already satisfied: gast!=0.5.0,!=0.5.1,!=0.5.2,>=0.2.1 in c:\\users\\qirun\\desktop\\mbd\\2 cuatri\\análisis de datos no estructurados +oc\\2. imagenes\\tomato_disease\\tomato_venv\\lib\\site-packages (from tensorflow-intel==2.16.1->tensorflow) (0.5.4)\n",
      "Requirement already satisfied: google-pasta>=0.1.1 in c:\\users\\qirun\\desktop\\mbd\\2 cuatri\\análisis de datos no estructurados +oc\\2. imagenes\\tomato_disease\\tomato_venv\\lib\\site-packages (from tensorflow-intel==2.16.1->tensorflow) (0.2.0)\n",
      "Requirement already satisfied: h5py>=3.10.0 in c:\\users\\qirun\\desktop\\mbd\\2 cuatri\\análisis de datos no estructurados +oc\\2. imagenes\\tomato_disease\\tomato_venv\\lib\\site-packages (from tensorflow-intel==2.16.1->tensorflow) (3.11.0)\n",
      "Requirement already satisfied: libclang>=13.0.0 in c:\\users\\qirun\\desktop\\mbd\\2 cuatri\\análisis de datos no estructurados +oc\\2. imagenes\\tomato_disease\\tomato_venv\\lib\\site-packages (from tensorflow-intel==2.16.1->tensorflow) (18.1.1)\n",
      "Requirement already satisfied: ml-dtypes~=0.3.1 in c:\\users\\qirun\\desktop\\mbd\\2 cuatri\\análisis de datos no estructurados +oc\\2. imagenes\\tomato_disease\\tomato_venv\\lib\\site-packages (from tensorflow-intel==2.16.1->tensorflow) (0.3.2)\n",
      "Requirement already satisfied: opt-einsum>=2.3.2 in c:\\users\\qirun\\desktop\\mbd\\2 cuatri\\análisis de datos no estructurados +oc\\2. imagenes\\tomato_disease\\tomato_venv\\lib\\site-packages (from tensorflow-intel==2.16.1->tensorflow) (3.3.0)\n",
      "Requirement already satisfied: packaging in c:\\users\\qirun\\desktop\\mbd\\2 cuatri\\análisis de datos no estructurados +oc\\2. imagenes\\tomato_disease\\tomato_venv\\lib\\site-packages (from tensorflow-intel==2.16.1->tensorflow) (24.0)\n",
      "Requirement already satisfied: protobuf!=4.21.0,!=4.21.1,!=4.21.2,!=4.21.3,!=4.21.4,!=4.21.5,<5.0.0dev,>=3.20.3 in c:\\users\\qirun\\desktop\\mbd\\2 cuatri\\análisis de datos no estructurados +oc\\2. imagenes\\tomato_disease\\tomato_venv\\lib\\site-packages (from tensorflow-intel==2.16.1->tensorflow) (4.25.3)\n",
      "Requirement already satisfied: requests<3,>=2.21.0 in c:\\users\\qirun\\desktop\\mbd\\2 cuatri\\análisis de datos no estructurados +oc\\2. imagenes\\tomato_disease\\tomato_venv\\lib\\site-packages (from tensorflow-intel==2.16.1->tensorflow) (2.31.0)\n",
      "Requirement already satisfied: setuptools in c:\\users\\qirun\\desktop\\mbd\\2 cuatri\\análisis de datos no estructurados +oc\\2. imagenes\\tomato_disease\\tomato_venv\\lib\\site-packages (from tensorflow-intel==2.16.1->tensorflow) (69.2.0)\n",
      "Requirement already satisfied: six>=1.12.0 in c:\\users\\qirun\\desktop\\mbd\\2 cuatri\\análisis de datos no estructurados +oc\\2. imagenes\\tomato_disease\\tomato_venv\\lib\\site-packages (from tensorflow-intel==2.16.1->tensorflow) (1.16.0)\n",
      "Requirement already satisfied: termcolor>=1.1.0 in c:\\users\\qirun\\desktop\\mbd\\2 cuatri\\análisis de datos no estructurados +oc\\2. imagenes\\tomato_disease\\tomato_venv\\lib\\site-packages (from tensorflow-intel==2.16.1->tensorflow) (2.4.0)\n",
      "Requirement already satisfied: typing-extensions>=3.6.6 in c:\\users\\qirun\\desktop\\mbd\\2 cuatri\\análisis de datos no estructurados +oc\\2. imagenes\\tomato_disease\\tomato_venv\\lib\\site-packages (from tensorflow-intel==2.16.1->tensorflow) (4.11.0)\n",
      "Requirement already satisfied: wrapt>=1.11.0 in c:\\users\\qirun\\desktop\\mbd\\2 cuatri\\análisis de datos no estructurados +oc\\2. imagenes\\tomato_disease\\tomato_venv\\lib\\site-packages (from tensorflow-intel==2.16.1->tensorflow) (1.16.0)\n",
      "Requirement already satisfied: grpcio<2.0,>=1.24.3 in c:\\users\\qirun\\desktop\\mbd\\2 cuatri\\análisis de datos no estructurados +oc\\2. imagenes\\tomato_disease\\tomato_venv\\lib\\site-packages (from tensorflow-intel==2.16.1->tensorflow) (1.63.0)\n",
      "Requirement already satisfied: tensorboard<2.17,>=2.16 in c:\\users\\qirun\\desktop\\mbd\\2 cuatri\\análisis de datos no estructurados +oc\\2. imagenes\\tomato_disease\\tomato_venv\\lib\\site-packages (from tensorflow-intel==2.16.1->tensorflow) (2.16.2)\n",
      "Requirement already satisfied: keras>=3.0.0 in c:\\users\\qirun\\desktop\\mbd\\2 cuatri\\análisis de datos no estructurados +oc\\2. imagenes\\tomato_disease\\tomato_venv\\lib\\site-packages (from tensorflow-intel==2.16.1->tensorflow) (3.3.3)\n",
      "Requirement already satisfied: tensorflow-io-gcs-filesystem>=0.23.1 in c:\\users\\qirun\\desktop\\mbd\\2 cuatri\\análisis de datos no estructurados +oc\\2. imagenes\\tomato_disease\\tomato_venv\\lib\\site-packages (from tensorflow-intel==2.16.1->tensorflow) (0.31.0)\n",
      "Requirement already satisfied: numpy<2.0.0,>=1.23.5 in c:\\users\\qirun\\desktop\\mbd\\2 cuatri\\análisis de datos no estructurados +oc\\2. imagenes\\tomato_disease\\tomato_venv\\lib\\site-packages (from tensorflow-intel==2.16.1->tensorflow) (1.26.4)\n",
      "Requirement already satisfied: wheel<1.0,>=0.23.0 in c:\\users\\qirun\\desktop\\mbd\\2 cuatri\\análisis de datos no estructurados +oc\\2. imagenes\\tomato_disease\\tomato_venv\\lib\\site-packages (from astunparse>=1.6.0->tensorflow-intel==2.16.1->tensorflow) (0.43.0)\n",
      "Requirement already satisfied: rich in c:\\users\\qirun\\desktop\\mbd\\2 cuatri\\análisis de datos no estructurados +oc\\2. imagenes\\tomato_disease\\tomato_venv\\lib\\site-packages (from keras>=3.0.0->tensorflow-intel==2.16.1->tensorflow) (13.7.1)\n",
      "Requirement already satisfied: namex in c:\\users\\qirun\\desktop\\mbd\\2 cuatri\\análisis de datos no estructurados +oc\\2. imagenes\\tomato_disease\\tomato_venv\\lib\\site-packages (from keras>=3.0.0->tensorflow-intel==2.16.1->tensorflow) (0.0.8)\n",
      "Requirement already satisfied: optree in c:\\users\\qirun\\desktop\\mbd\\2 cuatri\\análisis de datos no estructurados +oc\\2. imagenes\\tomato_disease\\tomato_venv\\lib\\site-packages (from keras>=3.0.0->tensorflow-intel==2.16.1->tensorflow) (0.11.0)\n",
      "Requirement already satisfied: charset-normalizer<4,>=2 in c:\\users\\qirun\\desktop\\mbd\\2 cuatri\\análisis de datos no estructurados +oc\\2. imagenes\\tomato_disease\\tomato_venv\\lib\\site-packages (from requests<3,>=2.21.0->tensorflow-intel==2.16.1->tensorflow) (3.3.2)\n",
      "Requirement already satisfied: idna<4,>=2.5 in c:\\users\\qirun\\desktop\\mbd\\2 cuatri\\análisis de datos no estructurados +oc\\2. imagenes\\tomato_disease\\tomato_venv\\lib\\site-packages (from requests<3,>=2.21.0->tensorflow-intel==2.16.1->tensorflow) (3.7)\n",
      "Requirement already satisfied: urllib3<3,>=1.21.1 in c:\\users\\qirun\\desktop\\mbd\\2 cuatri\\análisis de datos no estructurados +oc\\2. imagenes\\tomato_disease\\tomato_venv\\lib\\site-packages (from requests<3,>=2.21.0->tensorflow-intel==2.16.1->tensorflow) (2.2.1)\n",
      "Requirement already satisfied: certifi>=2017.4.17 in c:\\users\\qirun\\desktop\\mbd\\2 cuatri\\análisis de datos no estructurados +oc\\2. imagenes\\tomato_disease\\tomato_venv\\lib\\site-packages (from requests<3,>=2.21.0->tensorflow-intel==2.16.1->tensorflow) (2024.2.2)\n",
      "Requirement already satisfied: markdown>=2.6.8 in c:\\users\\qirun\\desktop\\mbd\\2 cuatri\\análisis de datos no estructurados +oc\\2. imagenes\\tomato_disease\\tomato_venv\\lib\\site-packages (from tensorboard<2.17,>=2.16->tensorflow-intel==2.16.1->tensorflow) (3.6)\n",
      "Requirement already satisfied: tensorboard-data-server<0.8.0,>=0.7.0 in c:\\users\\qirun\\desktop\\mbd\\2 cuatri\\análisis de datos no estructurados +oc\\2. imagenes\\tomato_disease\\tomato_venv\\lib\\site-packages (from tensorboard<2.17,>=2.16->tensorflow-intel==2.16.1->tensorflow) (0.7.2)\n",
      "Requirement already satisfied: werkzeug>=1.0.1 in c:\\users\\qirun\\desktop\\mbd\\2 cuatri\\análisis de datos no estructurados +oc\\2. imagenes\\tomato_disease\\tomato_venv\\lib\\site-packages (from tensorboard<2.17,>=2.16->tensorflow-intel==2.16.1->tensorflow) (3.0.3)\n",
      "Requirement already satisfied: importlib-metadata>=4.4 in c:\\users\\qirun\\desktop\\mbd\\2 cuatri\\análisis de datos no estructurados +oc\\2. imagenes\\tomato_disease\\tomato_venv\\lib\\site-packages (from markdown>=2.6.8->tensorboard<2.17,>=2.16->tensorflow-intel==2.16.1->tensorflow) (7.1.0)\n",
      "Requirement already satisfied: MarkupSafe>=2.1.1 in c:\\users\\qirun\\desktop\\mbd\\2 cuatri\\análisis de datos no estructurados +oc\\2. imagenes\\tomato_disease\\tomato_venv\\lib\\site-packages (from werkzeug>=1.0.1->tensorboard<2.17,>=2.16->tensorflow-intel==2.16.1->tensorflow) (2.1.5)\n",
      "Requirement already satisfied: markdown-it-py>=2.2.0 in c:\\users\\qirun\\desktop\\mbd\\2 cuatri\\análisis de datos no estructurados +oc\\2. imagenes\\tomato_disease\\tomato_venv\\lib\\site-packages (from rich->keras>=3.0.0->tensorflow-intel==2.16.1->tensorflow) (3.0.0)\n",
      "Requirement already satisfied: pygments<3.0.0,>=2.13.0 in c:\\users\\qirun\\desktop\\mbd\\2 cuatri\\análisis de datos no estructurados +oc\\2. imagenes\\tomato_disease\\tomato_venv\\lib\\site-packages (from rich->keras>=3.0.0->tensorflow-intel==2.16.1->tensorflow) (2.18.0)\n",
      "Requirement already satisfied: zipp>=0.5 in c:\\users\\qirun\\desktop\\mbd\\2 cuatri\\análisis de datos no estructurados +oc\\2. imagenes\\tomato_disease\\tomato_venv\\lib\\site-packages (from importlib-metadata>=4.4->markdown>=2.6.8->tensorboard<2.17,>=2.16->tensorflow-intel==2.16.1->tensorflow) (3.18.1)\n",
      "Requirement already satisfied: mdurl~=0.1 in c:\\users\\qirun\\desktop\\mbd\\2 cuatri\\análisis de datos no estructurados +oc\\2. imagenes\\tomato_disease\\tomato_venv\\lib\\site-packages (from markdown-it-py>=2.2.0->rich->keras>=3.0.0->tensorflow-intel==2.16.1->tensorflow) (0.1.2)\n",
      "Using cached tensorflow-2.16.1-cp39-cp39-win_amd64.whl (2.1 kB)\n",
      "Using cached tensorflow_intel-2.16.1-cp39-cp39-win_amd64.whl (376.9 MB)\n",
      "Installing collected packages: tensorflow-intel, tensorflow\n"
     ]
    },
    {
     "name": "stderr",
     "output_type": "stream",
     "text": [
      "ERROR: Could not install packages due to an OSError: [Errno 2] No such file or directory: 'C:\\\\Users\\\\qirun\\\\Desktop\\\\MBD\\\\2 cuatri\\\\Análisis de datos no estructurados +OC\\\\2. IMAGENES\\\\tomato_disease\\\\tomato_venv\\\\Lib\\\\site-packages\\\\tensorflow\\\\include\\\\external\\\\com_github_grpc_grpc\\\\src\\\\core\\\\ext\\\\filters\\\\client_channel\\\\lb_policy\\\\grpclb\\\\client_load_reporting_filter.h'\n",
      "HINT: This error might have occurred since this system does not have Windows Long Path support enabled. You can find information on how to enable this at https://pip.pypa.io/warnings/enable-long-paths\n",
      "\n"
     ]
    }
   ],
   "source": [
    "!pip install tensorflow"
   ]
  },
  {
   "cell_type": "code",
   "execution_count": 2,
   "metadata": {},
   "outputs": [
    {
     "ename": "ModuleNotFoundError",
     "evalue": "No module named 'tensorflow'",
     "output_type": "error",
     "traceback": [
      "\u001b[1;31m---------------------------------------------------------------------------\u001b[0m",
      "\u001b[1;31mModuleNotFoundError\u001b[0m                       Traceback (most recent call last)",
      "Cell \u001b[1;32mIn[2], line 1\u001b[0m\n\u001b[1;32m----> 1\u001b[0m \u001b[38;5;28;01mimport\u001b[39;00m \u001b[38;5;21;01mtensorflow\u001b[39;00m \u001b[38;5;28;01mas\u001b[39;00m \u001b[38;5;21;01mtf\u001b[39;00m\n\u001b[0;32m      2\u001b[0m tpu \u001b[38;5;241m=\u001b[39m tf\u001b[38;5;241m.\u001b[39mdistribute\u001b[38;5;241m.\u001b[39mcluster_resolver\u001b[38;5;241m.\u001b[39mTPUClusterResolver()\n\u001b[0;32m      3\u001b[0m tf\u001b[38;5;241m.\u001b[39mconfig\u001b[38;5;241m.\u001b[39mexperimental_connect_to_cluster(tpu)\n",
      "\u001b[1;31mModuleNotFoundError\u001b[0m: No module named 'tensorflow'"
     ]
    }
   ],
   "source": [
    "import tensorflow as tf\n",
    "tpu = tf.distribute.cluster_resolver.TPUClusterResolver()\n",
    "tf.config.experimental_connect_to_cluster(tpu)\n",
    "tf.tpu.experimental.initialize_tpu_system(tpu)\n",
    "tpu_strategy = tf.distribute.experimental.TPUStrategy(tpu)\n",
    "\n",
    "import cv2\n",
    "%matplotlib inline\n",
    "from matplotlib import pyplot as plt\n",
    "import numpy as np\n",
    "import os\n",
    "import matplotlib.image as mpimg\n",
    "from keras.models import Sequential\n",
    "from keras.layers.convolutional import Conv2D\n",
    "from keras.layers.convolutional import MaxPooling2D\n",
    "from keras.layers.core import Activation, Flatten, Dropout, Dense\n",
    "from keras.layers.normalization import BatchNormalization\n",
    "from sklearn.model_selection import train_test_split\n",
    "from keras.preprocessing.image import ImageDataGenerator\n",
    "from sklearn.preprocessing import LabelBinarizer"
   ]
  },
  {
   "cell_type": "code",
   "execution_count": 7,
   "metadata": {},
   "outputs": [
    {
     "name": "stderr",
     "output_type": "stream",
     "text": [
      "\"grep\" no se reconoce como un comando interno o externo,\n",
      "programa o archivo por lotes ejecutable.\n"
     ]
    }
   ],
   "source": [
    "!pip freeze | grep tensorflow"
   ]
  }
 ],
 "metadata": {
  "kernelspec": {
   "display_name": "tomato_venv",
   "language": "python",
   "name": "python3"
  },
  "language_info": {
   "codemirror_mode": {
    "name": "ipython",
    "version": 3
   },
   "file_extension": ".py",
   "mimetype": "text/x-python",
   "name": "python",
   "nbconvert_exporter": "python",
   "pygments_lexer": "ipython3",
   "version": "3.9.13"
  }
 },
 "nbformat": 4,
 "nbformat_minor": 2
}
